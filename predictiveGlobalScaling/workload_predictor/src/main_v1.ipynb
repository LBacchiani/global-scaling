{
 "cells": [
  {
   "cell_type": "code",
   "execution_count": null,
   "metadata": {},
   "outputs": [],
   "source": [
    "import numpy as np\n",
    "import numpy.linalg as ln\n",
    "\n",
    "import torch\n",
    "import torch.nn as nn\n",
    "import torch.nn.functional as F\n",
    "import torch.optim as optim\n",
    "\n",
    "import matplotlib.pyplot as plt\n",
    "\n",
    "torch.manual_seed(42)"
   ]
  },
  {
   "cell_type": "markdown",
   "metadata": {},
   "source": [
    "Load and normalize Enron Email Dataset"
   ]
  },
  {
   "cell_type": "code",
   "execution_count": null,
   "metadata": {},
   "outputs": [],
   "source": [
    "import pandas as pd\n",
    "\n",
    "train_cols = [\n",
    "    'date_month_1', 'date_month_2','date_month_3','date_month_4', 'date_month_5','date_month_6','date_month_7', 'date_month_8','date_month_9','date_month_10','date_month_11','date_month_12', 'date_day_1','date_day_2','date_day_3','date_day_4','date_day_5','date_day_6','date_day_7','date_day_8','date_day_9','date_day_10','date_day_11','date_day_12','date_day_13','date_day_14','date_day_15','date_day_16','date_day_17','date_day_18','date_day_19','date_day_20','date_day_21','date_day_22','date_day_23','date_day_24','date_day_25','date_day_26','date_day_27','date_day_28','date_day_29','date_day_30','date_day_31','date_dayOfWeek_0','date_dayOfWeek_1','date_dayOfWeek_2','date_dayOfWeek_3','date_dayOfWeek_4','date_dayOfWeek_5','date_dayOfWeek_6','date_hour_0','date_hour_1','date_hour_2','date_hour_3','date_hour_4','date_hour_5','date_hour_6','date_hour_7','date_hour_8','date_hour_9','date_hour_10','date_hour_11','date_hour_12','date_hour_13','date_hour_14','date_hour_15','date_hour_16','date_hour_17','date_hour_18','date_hour_19','date_hour_20','date_hour_21','date_hour_22','date_hour_23','date_minute_0','date_minute_1','date_minute_2','date_minute_3','date_minute_4','date_minute_5','date_minute_6','date_minute_7','date_minute_8','date_minute_9','date_minute_10','date_minute_11','date_minute_12','date_minute_13','date_minute_14','date_minute_15','date_minute_16','date_minute_17','date_minute_18','date_minute_19','date_minute_20','date_minute_21','date_minute_22','date_minute_23','date_minute_24','date_minute_25','date_minute_26','date_minute_27','date_minute_28','date_minute_29','date_minute_30','date_minute_31','date_minute_32','date_minute_33','date_minute_34','date_minute_35','date_minute_36','date_minute_37','date_minute_38','date_minute_39','date_minute_40','date_minute_41','date_minute_42','date_minute_43','date_minute_44','date_minute_45','date_minute_46','date_minute_47','date_minute_48','date_minute_49','date_minute_50','date_minute_51','date_minute_52','date_minute_53','date_minute_54','date_minute_55','date_minute_56','date_minute_57','date_minute_58','date_minute_59','date_second_0','date_second_1','date_second_2','date_second_3','date_second_4','date_second_5','date_second_6','date_second_7','date_second_8','date_second_9','date_second_10','date_second_11','date_second_12','date_second_13','date_second_14','date_second_15','date_second_16','date_second_17','date_second_18','date_second_19','date_second_20','date_second_21','date_second_22','date_second_23','date_second_24','date_second_25','date_second_26','date_second_27','date_second_28','date_second_29','date_second_30','date_second_31','date_second_32','date_second_33','date_second_34','date_second_35','date_second_36','date_second_37','date_second_38','date_second_39','date_second_40','date_second_41','date_second_42','date_second_43','date_second_44','date_second_45','date_second_46','date_second_47','date_second_48','date_second_49','date_second_50','date_second_51','date_second_52','date_second_53','date_second_54','date_second_55','date_second_56','date_second_57','date_second_58','date_second_59','mail_count_past'\n",
    "    ]\n",
    "target_col = 'mail_count_future'\n",
    "\n",
    "df = pd.read_csv(\n",
    "    'data/Enron_A2B2_nominal.csv',\n",
    "    usecols=train_cols + [target_col],\n",
    "    decimal=\",\",\n",
    "    dtype=np.float16 \n",
    ")\n",
    "df.info()\n",
    "df"
   ]
  },
  {
   "cell_type": "code",
   "execution_count": null,
   "metadata": {},
   "outputs": [],
   "source": [
    "from torch.utils.data import Dataset\n",
    "\n",
    "class EnronDataset(Dataset):\n",
    "    def __init__(self, x, y):\n",
    "        if not torch.is_tensor(x):\n",
    "            x = torch.from_numpy(x)\n",
    "        if not torch.is_tensor(y):\n",
    "            y = torch.from_numpy(y)\n",
    "        self.x = x\n",
    "        self.y = y\n",
    "\n",
    "    def __len__(self):\n",
    "        return len(self.x)\n",
    "    \n",
    "    def __getitem__(self, i):\n",
    "        return self.x[i], self.y[i]"
   ]
  },
  {
   "cell_type": "code",
   "execution_count": null,
   "metadata": {},
   "outputs": [],
   "source": [
    "df_test = df.sample(frac=0.2, random_state=99) # TODO this should be a specific test set taken from mails in a specific range \n",
    "df_train = df.drop(df_test.index)\n",
    "\n",
    "x_train = df_train[train_cols].to_numpy()\n",
    "x_test = df_test[train_cols].to_numpy()\n",
    "\n",
    "y_train = df_train[target_col].to_numpy()\n",
    "y_test = df_test[target_col].to_numpy()"
   ]
  },
  {
   "cell_type": "code",
   "execution_count": null,
   "metadata": {},
   "outputs": [],
   "source": [
    "trainloader = torch.utils.data.DataLoader(\n",
    "    EnronDataset(x_train, y_train), \n",
    "    batch_size=2**10, # TODO check this\n",
    "    shuffle=True, \n",
    "    num_workers=1 # TODO check this\n",
    "    )"
   ]
  },
  {
   "cell_type": "markdown",
   "metadata": {},
   "source": [
    "Define a Regression Neural Network"
   ]
  },
  {
   "cell_type": "code",
   "execution_count": null,
   "metadata": {},
   "outputs": [],
   "source": [
    "class Net(torch.nn.Module):\n",
    "    def __init__(self):\n",
    "        super(Net, self).__init__()\n",
    "        self.fc1 = nn.Linear(195, 120)\n",
    "        self.fc2 = nn.Linear(120, 84)\n",
    "        self.fc3 = nn.Linear(84, 1)\n",
    "        \n",
    "    def forward(self, x):\n",
    "        x = F.relu(self.fc1(x))\n",
    "        x = F.relu(self.fc2(x))\n",
    "        x = self.fc3(x)\n",
    "        return x\n",
    "\n",
    "net = Net()"
   ]
  },
  {
   "cell_type": "markdown",
   "metadata": {},
   "source": [
    "Define a Loss function and optimizer"
   ]
  },
  {
   "cell_type": "code",
   "execution_count": null,
   "metadata": {},
   "outputs": [],
   "source": [
    "criterion = nn.MSELoss() #mean squared error\n",
    "optimizer = optim.Adam(net.parameters(), lr=1e-4) "
   ]
  },
  {
   "cell_type": "markdown",
   "metadata": {},
   "source": [
    "start training"
   ]
  },
  {
   "cell_type": "code",
   "execution_count": null,
   "metadata": {},
   "outputs": [],
   "source": [
    "epochs = 3000\n",
    "\n"
   ]
  },
  {
   "cell_type": "code",
   "execution_count": null,
   "metadata": {},
   "outputs": [],
   "source": [
    "loss=0\n",
    "current_loss=0\n",
    "loss_list=[]\n",
    "for epoch in range(0, epochs):\n",
    "    \n",
    "    for i, data in enumerate(trainloader,0):\n",
    "        inputs, targets = data\n",
    "        inputs, targets = inputs.float(), targets.float()\n",
    "        targets = targets.reshape(((targets.shape[0], 1)))\n",
    "        \n",
    "        optimizer.zero_grad()\n",
    "        outputs = net(inputs)\n",
    "        \n",
    "        loss= loss_f(outputs, targets)\n",
    "        \n",
    "        loss.backward()\n",
    "        current_loss += loss.item()\n",
    "        optimizer.step()\n",
    "        \n",
    "    if(epoch%1==0 or epoch==epochs-1):\n",
    "        l = current_loss/i\n",
    "        print('epoch {}, loss {}'.format(epoch, l))\n",
    "        loss_list.append(l)\n",
    "        current_loss=0"
   ]
  },
  {
   "cell_type": "markdown",
   "metadata": {},
   "source": [
    "Predict"
   ]
  },
  {
   "cell_type": "code",
   "execution_count": null,
   "metadata": {},
   "outputs": [],
   "source": [
    "with torch.no_grad():\n",
    "    predicted = net(x_test)\n",
    "\n",
    "y_test = y_test.detach().numpy()\n",
    "predicted = predicted.reshape(-1,1)\n",
    "predicted = predicted.detach().numpy()\n",
    "predicted = np.int_(predicted)\n",
    "predicted = predicted.T[0]\n",
    "\n",
    "i=0\n",
    "for a in predicted:\n",
    "    if a<0:\n",
    "        predicted[i]=0\n",
    "    i+=1\n",
    "\n",
    "print(\"PREDETTI\")\n",
    "print(predicted)\n",
    "print(\"VERI\")\n",
    "print(y_test)\n",
    "\n",
    "Err=(ln.norm(y_test-predicted,ord=2)/ln.norm(y_test,2))*100\n",
    "print(\"Errore\")\n",
    "print(Err)"
   ]
  },
  {
   "cell_type": "markdown",
   "metadata": {},
   "source": [
    "Graphics"
   ]
  },
  {
   "cell_type": "code",
   "execution_count": null,
   "metadata": {},
   "outputs": [],
   "source": [
    "plt.figure(figsize=(10, 5))\n",
    "plt.title(\"Mail predette\")\n",
    "plt.plot(range(len(predicted)),predicted,'g')\n",
    "plt.savefig(\"img/hour/predicted_A10B10.png\",dpi=72)\n",
    "plt.show()"
   ]
  },
  {
   "cell_type": "code",
   "execution_count": null,
   "metadata": {},
   "outputs": [],
   "source": [
    "plt.figure(figsize=(10, 5))\n",
    "plt.title(\"Mail reali (set di test)\")\n",
    "plt.plot(range(len(y_test)),y_test,'c')\n",
    "plt.savefig(\"img/hour/ytest_A10B10.png\",dpi=72)\n",
    "plt.show()"
   ]
  },
  {
   "cell_type": "code",
   "execution_count": null,
   "metadata": {},
   "outputs": [],
   "source": [
    "plt.figure(figsize=(10, 5))\n",
    "plt.title(\"Confronto tra valori reali e predetti su 300 campioni\")\n",
    "plt.plot(range(len(y_test[28100:28400])),y_test[28100:28400],'c')\n",
    "plt.plot(range(len(predicted[28100:28400])),predicted[28100:28400],'g')\n",
    "plt.legend([\"Valori reali\",\"Valori predetti\"])\n",
    "plt.savefig(\"img/hour/comparison_A10B10.png\",dpi=72)\n",
    "plt.show()"
   ]
  },
  {
   "cell_type": "code",
   "execution_count": null,
   "metadata": {},
   "outputs": [],
   "source": [
    "plt.figure(figsize=(10, 5))\n",
    "plt.title(\"Loss\")\n",
    "plt.xlabel(\"Steps\")\n",
    "plt.ylabel(\"Mean squared error\")\n",
    "plt.plot(range(len(loss_list)),loss_list,'b')\n",
    "plt.grid(which='both')\n",
    "plt.savefig(\"img/hour/loss_A10B10.png\",dpi=72)\n",
    "plt.show()"
   ]
  }
 ],
 "metadata": {
  "interpreter": {
   "hash": "55379ab208a5a1c57376d9a6dc7c2922632f62645619bc8dfbc6910698e69e79"
  },
  "kernelspec": {
   "display_name": "Python 3.9.7 ('base')",
   "language": "python",
   "name": "python3"
  },
  "language_info": {
   "codemirror_mode": {
    "name": "ipython",
    "version": 3
   },
   "file_extension": ".py",
   "mimetype": "text/x-python",
   "name": "python",
   "nbconvert_exporter": "python",
   "pygments_lexer": "ipython3",
   "version": "3.9.12"
  },
  "orig_nbformat": 4
 },
 "nbformat": 4,
 "nbformat_minor": 2
}
