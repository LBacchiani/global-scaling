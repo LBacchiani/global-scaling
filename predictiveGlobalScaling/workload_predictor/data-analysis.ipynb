{
 "cells": [
  {
   "cell_type": "code",
   "execution_count": 4,
   "metadata": {},
   "outputs": [
    {
     "data": {
      "text/plain": [
       "<torch._C.Generator at 0x7f05fa0842b0>"
      ]
     },
     "execution_count": 4,
     "metadata": {},
     "output_type": "execute_result"
    }
   ],
   "source": [
    "import pandas as pd\n",
    "\n",
    "import numpy as np\n",
    "import numpy.linalg as ln\n",
    "\n",
    "import torch\n",
    "import torch.nn as nn\n",
    "import torch.nn.functional as F\n",
    "\n",
    "import matplotlib.pyplot as plt\n",
    "\n",
    "torch.manual_seed(42)"
   ]
  },
  {
   "cell_type": "markdown",
   "metadata": {},
   "source": [
    "Create classes for handling models and dataset in pytorch"
   ]
  },
  {
   "cell_type": "code",
   "execution_count": 5,
   "metadata": {},
   "outputs": [],
   "source": [
    "class Net(torch.nn.Module):\n",
    "    def __init__(self, inputSize, n_hidden, n_hidden2, n_hidden3, outputSize):\n",
    "        super(Net, self).__init__()\n",
    "        self.input_layer = torch.nn.Linear(inputSize, n_hidden)\n",
    "        self.hiddens = nn.ModuleList(\n",
    "            nn.Linear(n_hidden, n_hidden2),\n",
    "            nn.Linear(n_hidden2, n_hidden3)\n",
    "        )\n",
    "        self.output_layer = torch.nn.Linear(n_hidden3, outputSize),\n",
    "        \n",
    "    def forward(self, x):\n",
    "        x = F.relu(self.input_layer(x))\n",
    "        for hidden in self.hiddens:\n",
    "            x = F.relu(hidden)\n",
    "        x = self.output_layer(x)\n",
    "        return x\n",
    "\n",
    "\n",
    "class EnronDataset(torch.utils.data.Dataset):\n",
    "    def __init__(self, x, y):\n",
    "        if not torch.is_tensor(x):\n",
    "            x = torch.from_numpy(x)\n",
    "        if not torch.is_tensor(y):\n",
    "            y = torch.from_numpy(y)\n",
    "        self.x = x\n",
    "        self.y = y\n",
    "\n",
    "    def __len__(self):\n",
    "        return len(self.x)\n",
    "    \n",
    "    def __getitem__(self, i):\n",
    "        return self.x[i], self.y[i]"
   ]
  },
  {
   "cell_type": "markdown",
   "metadata": {},
   "source": [
    "preprocess and produce train and test csv files from the entire dataframe "
   ]
  },
  {
   "cell_type": "code",
   "execution_count": null,
   "metadata": {},
   "outputs": [],
   "source": [
    "df = pd.read_csv(\n",
    "    'data/emails.csv',\n",
    "    )"
   ]
  },
  {
   "cell_type": "code",
   "execution_count": null,
   "metadata": {},
   "outputs": [],
   "source": []
  },
  {
   "cell_type": "code",
   "execution_count": null,
   "metadata": {},
   "outputs": [],
   "source": []
  },
  {
   "cell_type": "markdown",
   "metadata": {},
   "source": [
    "shuffle the samples and creating training and test sets"
   ]
  },
  {
   "cell_type": "code",
   "execution_count": null,
   "metadata": {},
   "outputs": [],
   "source": [
    "df_test = df.sample(frac=0.2, random_state=99) # TODO this should be a specific test set taken from mails in a specific range \n",
    "df_train = df.drop(df_test.index)\n",
    "\n",
    "x_train = df_train[train_cols].to_numpy()\n",
    "y_train = df_train[target_col].to_numpy()\n",
    "\n",
    "x_test = df_test[train_cols].tu_numpy()\n",
    "y_test = df_test[target_col].to_numpy()\n",
    "\n",
    "dataset = EnronDataset(x, y)\n",
    "trainloader = torch.utils.data.DataLoader(\n",
    "    dataset, \n",
    "    batch_size=2**10, # TODO check this\n",
    "    shuffle=True, \n",
    "    num_workers=1 # TODO check this\n",
    "    )"
   ]
  },
  {
   "cell_type": "markdown",
   "metadata": {},
   "source": [
    "initializing model"
   ]
  },
  {
   "cell_type": "code",
   "execution_count": null,
   "metadata": {},
   "outputs": [],
   "source": [
    "inputDim = len(col2use)\n",
    "outputDim = 1\n",
    "learningRate = 1e-4\n",
    "epochs = 3000\n",
    "n_hidden = 375\n",
    "n_hidden2 = 187\n",
    "n_hidden3 = 93\n",
    "net = Net(inputDim, n_hidden,n_hidden2,n_hidden3, outputDim)\n",
    "loss_f = torch.nn.MSELoss() #mean squared error\n",
    "optimizer = torch.optim.Adam(net.parameters(), lr = learningRate) "
   ]
  },
  {
   "cell_type": "markdown",
   "metadata": {},
   "source": [
    "start training"
   ]
  },
  {
   "cell_type": "code",
   "execution_count": null,
   "metadata": {},
   "outputs": [],
   "source": [
    "loss=0\n",
    "current_loss=0\n",
    "loss_list=[]\n",
    "for epoch in range(0, epochs):\n",
    "    \n",
    "    for i,data in enumerate(trainloader,0):\n",
    "        inputs, targets = data\n",
    "        inputs, targets = inputs.float(), targets.float()\n",
    "        targets = targets.reshape(((targets.shape[0], 1)))\n",
    "        \n",
    "        optimizer.zero_grad()\n",
    "        outputs = net(inputs)\n",
    "        \n",
    "        loss= loss_f(outputs, targets)\n",
    "        \n",
    "        loss.backward()\n",
    "        current_loss += loss.item()\n",
    "        optimizer.step()\n",
    "        \n",
    "    if(epoch%1==0 or epoch==epochs-1):\n",
    "        l = current_loss/i\n",
    "        print('epoch {}, loss {}'.format(epoch, l))\n",
    "        loss_list.append(l)\n",
    "        current_loss=0"
   ]
  },
  {
   "cell_type": "markdown",
   "metadata": {},
   "source": [
    "Predict"
   ]
  },
  {
   "cell_type": "code",
   "execution_count": null,
   "metadata": {},
   "outputs": [],
   "source": [
    "with torch.no_grad():\n",
    "    predicted = net(x_test)\n",
    "\n",
    "y_test = y_test.detach().numpy()\n",
    "predicted = predicted.reshape(-1,1)\n",
    "predicted = predicted.detach().numpy()\n",
    "predicted = np.int_(predicted)\n",
    "predicted = predicted.T[0]\n",
    "\n",
    "i=0\n",
    "for a in predicted:\n",
    "    if a<0:\n",
    "        predicted[i]=0\n",
    "    i+=1\n",
    "\n",
    "print(\"PREDETTI\")\n",
    "print(predicted)\n",
    "print(\"VERI\")\n",
    "print(y_test)\n",
    "\n",
    "Err=(ln.norm(y_test-predicted,ord=2)/ln.norm(y_test,2))*100\n",
    "print(\"Errore\")\n",
    "print(Err)"
   ]
  },
  {
   "cell_type": "markdown",
   "metadata": {},
   "source": [
    "Graphics"
   ]
  },
  {
   "cell_type": "code",
   "execution_count": null,
   "metadata": {},
   "outputs": [],
   "source": [
    "plt.figure(figsize=(10, 5))\n",
    "plt.title(\"Mail predette\")\n",
    "plt.plot(range(len(predicted)),predicted,'g')\n",
    "plt.savefig(\"img/hour/predicted_A10B10.png\",dpi=72)\n",
    "plt.show()"
   ]
  },
  {
   "cell_type": "code",
   "execution_count": null,
   "metadata": {},
   "outputs": [],
   "source": [
    "plt.figure(figsize=(10, 5))\n",
    "plt.title(\"Mail reali (set di test)\")\n",
    "plt.plot(range(len(y_test)),y_test,'c')\n",
    "plt.savefig(\"img/hour/ytest_A10B10.png\",dpi=72)\n",
    "plt.show()"
   ]
  },
  {
   "cell_type": "code",
   "execution_count": null,
   "metadata": {},
   "outputs": [],
   "source": [
    "plt.figure(figsize=(10, 5))\n",
    "plt.title(\"Confronto tra valori reali e predetti su 300 campioni\")\n",
    "plt.plot(range(len(y_test[28100:28400])),y_test[28100:28400],'c')\n",
    "plt.plot(range(len(predicted[28100:28400])),predicted[28100:28400],'g')\n",
    "plt.legend([\"Valori reali\",\"Valori predetti\"])\n",
    "plt.savefig(\"img/hour/comparison_A10B10.png\",dpi=72)\n",
    "plt.show()"
   ]
  },
  {
   "cell_type": "code",
   "execution_count": null,
   "metadata": {},
   "outputs": [],
   "source": [
    "plt.figure(figsize=(10, 5))\n",
    "plt.title(\"Loss\")\n",
    "plt.xlabel(\"Steps\")\n",
    "plt.ylabel(\"Mean squared error\")\n",
    "plt.plot(range(len(loss_list)),loss_list,'b')\n",
    "plt.grid(which='both')\n",
    "plt.savefig(\"img/hour/loss_A10B10.png\",dpi=72)\n",
    "plt.show()"
   ]
  }
 ],
 "metadata": {
  "interpreter": {
   "hash": "55379ab208a5a1c57376d9a6dc7c2922632f62645619bc8dfbc6910698e69e79"
  },
  "kernelspec": {
   "display_name": "Python 3.9.7 ('base')",
   "language": "python",
   "name": "python3"
  },
  "language_info": {
   "codemirror_mode": {
    "name": "ipython",
    "version": 3
   },
   "file_extension": ".py",
   "mimetype": "text/x-python",
   "name": "python",
   "nbconvert_exporter": "python",
   "pygments_lexer": "ipython3",
   "version": "3.9.7"
  },
  "orig_nbformat": 4
 },
 "nbformat": 4,
 "nbformat_minor": 2
}
