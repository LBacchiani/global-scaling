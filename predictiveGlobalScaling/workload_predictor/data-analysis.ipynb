{
 "cells": [
  {
   "cell_type": "code",
   "execution_count": null,
   "metadata": {},
   "outputs": [],
   "source": [
    "import torch\n",
    "import torch.nn as nn\n",
    "import torch.nn.functional as F\n",
    "\n",
    "from pytorch_lightning import seed_everything\n",
    "seed_everything(42)\n",
    "# sets seeds for numpy, torch and python.random."
   ]
  },
  {
   "cell_type": "markdown",
   "metadata": {},
   "source": [
    "Load train, val and test dataset"
   ]
  },
  {
   "cell_type": "code",
   "execution_count": null,
   "metadata": {},
   "outputs": [],
   "source": [
    "from torch.utils.data import Dataset\n",
    "\n",
    "class EnronDataset(Dataset):\n",
    "    def __init__(self, df, target_col, preprocess=True):\n",
    "        df = self.preprocess(df) if preprocess else df\n",
    "        attr_cols = list(df.columns)\n",
    "        del(attr_cols[attr_cols.index(target_col)])\n",
    "        self.x = torch.from_numpy(df[attr_cols].to_numpy()).float()\n",
    "        self.y = torch.from_numpy(df[target_col].to_numpy()).float()\n",
    "\n",
    "    def preprocess(self, df):\n",
    "        hour = pd.get_dummies(df['hour'], prefix_sep='_', prefix='hour', drop_first=True)\n",
    "        day = pd.get_dummies(df['day'], prefix_sep='_', prefix='day', drop_first=True)\n",
    "        month = pd.get_dummies(df['month'], prefix_sep='_', prefix='month', drop_first=True)\n",
    "        weekday = pd.get_dummies(df['weekday'], prefix_sep='_', prefix='weekday', drop_first=True)\n",
    "\n",
    "        # Merge the original df with the categorical computed feature (order id preserved)\n",
    "        df = pd.concat([df, hour, day, month, weekday], axis=1, )\n",
    "\n",
    "        # drop the numerical df attributes\n",
    "        df.drop(\n",
    "            columns=['hour', 'day', 'month', 'weekday'], \n",
    "            axis=1, \n",
    "            inplace=True\n",
    "        )\n",
    "\n",
    "        return df\n",
    "\n",
    "    def __len__(self):\n",
    "        return len(self.y)\n",
    "    \n",
    "    def __getitem__(self, i):\n",
    "        return self.x[i], self.y[i]"
   ]
  },
  {
   "cell_type": "code",
   "execution_count": null,
   "metadata": {},
   "outputs": [],
   "source": [
    "import pandas as pd\n",
    "\n",
    "df_train = pd.read_csv(\n",
    "    'data/enron_train_hourly.csv',\n",
    ")\n",
    "df_val = pd.read_csv(\n",
    "    'data/enron_val_hourly.csv',\n",
    ")\n",
    "df_train_val = pd.read_csv(\n",
    "    'data/enron_train+val_hourly.csv',\n",
    ")\n",
    "df_test_weekday = pd.read_csv(\n",
    "    'data/enron_wednesday-15-february_hourly.csv',\n",
    ")\n",
    "df_test_holyday = pd.read_csv(\n",
    "    'data/enron_sunday_10_june_hourly.csv',\n",
    ")\n",
    "\n",
    "target_col = 'counter'"
   ]
  },
  {
   "cell_type": "code",
   "execution_count": null,
   "metadata": {},
   "outputs": [],
   "source": [
    "import os\n",
    "from torch.utils.data import DataLoader\n",
    "\n",
    "train_loader = DataLoader(\n",
    "    EnronDataset(df_train, target_col),\n",
    "    # num_workers=os.cpu_count(),\n",
    "    num_workers=0,\n",
    "    batch_size=len(df_train)\n",
    ")\n",
    "\n",
    "val_loader = DataLoader(\n",
    "    EnronDataset(df_val, target_col),\n",
    "    # num_workers=os.cpu_count(),\n",
    "    num_workers=0,\n",
    "    batch_size=len(df_val)\n",
    ")\n",
    "\n",
    "train_val_loader = DataLoader(\n",
    "    EnronDataset(df_train_val, target_col),\n",
    "    # num_workers=os.cpu_count(),\n",
    "    num_workers=0,\n",
    "    batch_size=len(df_train_val)\n",
    ")\n",
    "\n",
    "test_weekday_loader = DataLoader(\n",
    "    EnronDataset(df_val, target_col),\n",
    "    # num_workers=os.cpu_count(),\n",
    "    num_workers=0,\n",
    "    batch_size=len(df_test_weekday)\n",
    ")\n",
    "\n",
    "test_holyday_loader = DataLoader(\n",
    "    EnronDataset(df_val, target_col),\n",
    "    # num_workers=os.cpu_count(),\n",
    "    num_workers=0,\n",
    "    batch_size=len(df_test_holyday)\n",
    ")"
   ]
  },
  {
   "cell_type": "markdown",
   "metadata": {},
   "source": [
    "Define a Regression Neural Network"
   ]
  },
  {
   "cell_type": "code",
   "execution_count": null,
   "metadata": {},
   "outputs": [],
   "source": [
    "import pytorch_lightning as pl\n",
    "\n",
    "class LinearNetwork(pl.LightningModule):\n",
    "    def __init__(self, input_size=70, hidden_size=64, output_size=1):\n",
    "        super().__init__()\n",
    "        self.mlp = nn.Sequential(\n",
    "            nn.Linear(input_size, hidden_size), \n",
    "            nn.ReLU(), \n",
    "            nn.Linear(hidden_size, 32), \n",
    "            nn.ReLU(), \n",
    "            nn.Linear(32, output_size)\n",
    "        )\n",
    "\n",
    "    def forward(self, x):\n",
    "        # in lightning, forward defines the prediction/inference actions\n",
    "        x = self.mlp(x)\n",
    "        return x\n",
    "\n",
    "    def training_step(self, batch, batch_idx):\n",
    "        # training_step defined the train loop.\n",
    "        # It is independent of forward\n",
    "        x, y = batch\n",
    "        x = x.view(x.size(0), -1)\n",
    "        y = y.view(y.size(0), 1)\n",
    "        y_pred = self.mlp(x)\n",
    "        loss = F.mse_loss(y_pred, y)\n",
    "        # Logging to TensorBoard by default\n",
    "        self.log(\"train_loss\", loss)\n",
    "        return loss\n",
    "\n",
    "    def validation_step(self, batch, batch_idx):\n",
    "        x, y = batch\n",
    "        x = x.view(x.size(0), -1)\n",
    "        y = y.view(y.size(0), 1)\n",
    "        y_pred = self.mlp(x)\n",
    "        loss = F.mse_loss(y_pred, y)\n",
    "        # Logging to TensorBoard by default\n",
    "        self.log(\"val_loss\", loss)\n",
    "        return loss\n",
    "\n",
    "    def test_step(self, batch, batch_idx):\n",
    "        x, y = batch\n",
    "        x = x.view(x.size(0), -1)\n",
    "        y = y.view(y.size(0), 1)\n",
    "        y_pred = self.mlp(x)\n",
    "        print(\"test_predictions\", y_pred)\n",
    "        loss = F.mse_loss(y_pred, y)\n",
    "        # Logging to TensorBoard by default\n",
    "        self.log(\"test_loss\", loss)\n",
    "        return loss\n",
    "\n",
    "    def configure_optimizers(self):\n",
    "        optimizer = torch.optim.Adam(self.parameters(), lr=0.1)\n",
    "        lr_scheduler = torch.optim.lr_scheduler.ExponentialLR(optimizer=optimizer, gamma=0.9999)\n",
    "        return [optimizer], [lr_scheduler]\n",
    "\n",
    "model = LinearNetwork()"
   ]
  },
  {
   "cell_type": "code",
   "execution_count": null,
   "metadata": {},
   "outputs": [],
   "source": [
    "from pytorch_lightning import Trainer\n",
    "from pytorch_lightning.callbacks.early_stopping import EarlyStopping\n",
    "\n",
    "trainer = Trainer(\n",
    "    deterministic=True, \n",
    "    max_epochs=4000,\n",
    "    # log_every_n_steps=1,\n",
    "    check_val_every_n_epoch=100,\n",
    "    callbacks=[EarlyStopping(monitor=\"val_loss\", mode=\"min\")]\n",
    ")\n",
    "trainer.fit(\n",
    "    model=model, \n",
    "    train_dataloaders=train_loader,\n",
    "    val_dataloaders=val_loader,\n",
    ")"
   ]
  },
  {
   "cell_type": "code",
   "execution_count": null,
   "metadata": {},
   "outputs": [],
   "source": [
    "trainer.fit(\n",
    "    model=model, \n",
    "    train_dataloaders=train_val_loader,\n",
    ")"
   ]
  },
  {
   "cell_type": "code",
   "execution_count": null,
   "metadata": {},
   "outputs": [],
   "source": [
    "trainer.test(\n",
    "    ckpt_path=\"best\", \n",
    "    dataloaders=test_weekday_loader,\n",
    "    verbose=True\n",
    ")"
   ]
  },
  {
   "cell_type": "code",
   "execution_count": null,
   "metadata": {},
   "outputs": [],
   "source": [
    "trainer.test(\n",
    "    ckpt_path=\"best\", \n",
    "    dataloaders=test_holyday_loader,\n",
    "    verbose=True\n",
    ")"
   ]
  }
 ],
 "metadata": {
  "interpreter": {
   "hash": "55379ab208a5a1c57376d9a6dc7c2922632f62645619bc8dfbc6910698e69e79"
  },
  "kernelspec": {
   "display_name": "Python 3 (ipykernel)",
   "language": "python",
   "name": "python3"
  },
  "language_info": {
   "codemirror_mode": {
    "name": "ipython",
    "version": 3
   },
   "file_extension": ".py",
   "mimetype": "text/x-python",
   "name": "python",
   "nbconvert_exporter": "python",
   "pygments_lexer": "ipython3",
   "version": "3.9.12"
  }
 },
 "nbformat": 4,
 "nbformat_minor": 4
}
